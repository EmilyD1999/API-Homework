{
 "cells": [
  {
   "cell_type": "markdown",
   "metadata": {},
   "source": [
    "# WeatherPy\n",
    "----\n",
    "\n",
    "#### Note\n",
    "* Instructions have been included for each segment. You do not have to follow them exactly, but they are included to help you think through the steps."
   ]
  },
  {
   "cell_type": "code",
   "execution_count": null,
   "metadata": {},
   "outputs": [],
   "source": []
  },
  {
   "cell_type": "code",
   "execution_count": 2,
   "metadata": {
    "scrolled": true
   },
   "outputs": [
    {
     "name": "stdout",
     "output_type": "stream",
     "text": [
      "Requirement already satisfied: citipy in c:\\users\\emily\\anaconda3\\lib\\site-packages (0.0.5)\n",
      "Requirement already satisfied: kdtree>=0.12 in c:\\users\\emily\\anaconda3\\lib\\site-packages (from citipy) (0.16)\n"
     ]
    }
   ],
   "source": [
    "import matplotlib.pyplot as plt\n",
    "import pandas as pd\n",
    "import numpy as np\n",
    "import requests\n",
    "import time\n",
    "from scipy.stats import linregress\n",
    "import json \n",
    "!pip install citipy\n",
    "from citipy import citipy\n",
    "\n",
    "\n",
    "# Import API key\n",
    "from api_keys import weather_api_key\n",
    "\n",
    "# Output File (CSV)\n",
    "output_data_file = \"output_data/cities.csv\"\n",
    "\n",
    "# Range of latitudes and longitudes\n",
    "lat_range = (-90, 90)\n",
    "lng_range = (-180, 180)"
   ]
  },
  {
   "cell_type": "markdown",
   "metadata": {},
   "source": [
    "## Generate Cities List"
   ]
  },
  {
   "cell_type": "code",
   "execution_count": 3,
   "metadata": {},
   "outputs": [
    {
     "data": {
      "text/plain": [
       "648"
      ]
     },
     "execution_count": 3,
     "metadata": {},
     "output_type": "execute_result"
    }
   ],
   "source": [
    "# List for holding lat_lngs and cities\n",
    "lat_lngs = []\n",
    "cities = []\n",
    "\n",
    "# Create a set of random lat and lng combinations\n",
    "lats = np.random.uniform(low=-90.000, high=90.000, size=1500)\n",
    "lngs = np.random.uniform(low=-180.000, high=180.000, size=1500)\n",
    "lat_lngs = zip(lats, lngs)\n",
    "\n",
    "# Identify nearest city for each lat, lng combination\n",
    "for lat_lng in lat_lngs:\n",
    "    city = citipy.nearest_city(lat_lng[0], lat_lng[1]).city_name\n",
    "    \n",
    "    # If the city is unique, then add it to a our cities list\n",
    "    if city not in cities:\n",
    "        cities.append(city)\n",
    "\n",
    "# Print the city count to confirm sufficient count\n",
    "len(cities)\n"
   ]
  },
  {
   "cell_type": "markdown",
   "metadata": {},
   "source": [
    "### Perform API Calls\n",
    "* Perform a weather check on each city using a series of successive API calls.\n",
    "* Include a print log of each city as it'sbeing processed (with the city number and city name).\n"
   ]
  },
  {
   "cell_type": "code",
   "execution_count": 4,
   "metadata": {
    "scrolled": true
   },
   "outputs": [
    {
     "name": "stdout",
     "output_type": "stream",
     "text": [
      "Processing record 1 of Set 1 | ugoofaaru\n",
      "Processing record 2 of Set 1 | clyde river\n",
      "Processing record 3 of Set 1 | emmett\n",
      "Processing record 4 of Set 1 | abha\n",
      "Processing record 5 of Set 1 | ushuaia\n",
      "Processing record 6 of Set 1 | cabo san lucas\n",
      "Processing record 7 of Set 1 | upernavik\n",
      "Not Found\n",
      "Processing record 8 of Set 1 | sturgeon bay\n",
      "Processing record 9 of Set 1 | nikolskoye\n",
      "Processing record 10 of Set 1 | fortuna\n",
      "Processing record 11 of Set 1 | fare\n",
      "Processing record 12 of Set 1 | arraial do cabo\n",
      "Processing record 13 of Set 1 | lecce\n",
      "Processing record 14 of Set 1 | mataura\n",
      "Processing record 15 of Set 1 | akureyri\n",
      "Processing record 16 of Set 1 | beaverlodge\n",
      "Processing record 17 of Set 1 | mar del plata\n",
      "Processing record 18 of Set 1 | mount gambier\n",
      "Processing record 19 of Set 1 | ati\n",
      "Processing record 20 of Set 1 | butaritari\n",
      "Processing record 21 of Set 1 | aklavik\n",
      "Not Found\n",
      "Processing record 22 of Set 1 | sao miguel do araguaia\n",
      "Processing record 23 of Set 1 | albany\n",
      "Processing record 24 of Set 1 | shreveport\n",
      "Processing record 25 of Set 1 | sovetskaya gavan\n",
      "Processing record 26 of Set 1 | mecca\n",
      "Processing record 27 of Set 1 | bhinmal\n",
      "Processing record 28 of Set 1 | balakhninskiy\n",
      "Processing record 29 of Set 1 | kirakira\n",
      "Processing record 30 of Set 1 | saint-philippe\n",
      "Processing record 31 of Set 1 | rikitea\n",
      "Processing record 32 of Set 1 | san patricio\n",
      "Processing record 33 of Set 1 | busselton\n",
      "Processing record 34 of Set 1 | chuy\n",
      "Processing record 35 of Set 1 | karibib\n",
      "Processing record 36 of Set 1 | lavrentiya\n",
      "Processing record 37 of Set 1 | hobart\n",
      "Processing record 38 of Set 1 | contamana\n",
      "Not Found\n",
      "Not Found\n",
      "Processing record 39 of Set 1 | havoysund\n",
      "Processing record 40 of Set 1 | ancud\n",
      "Processing record 41 of Set 1 | itoman\n",
      "Processing record 42 of Set 1 | ponca city\n",
      "Processing record 43 of Set 1 | wuda\n",
      "Processing record 44 of Set 1 | esso\n",
      "Not Found\n",
      "Processing record 45 of Set 1 | bathsheba\n",
      "Processing record 46 of Set 1 | punta arenas\n",
      "Not Found\n",
      "Processing record 47 of Set 1 | lebu\n",
      "Processing record 48 of Set 1 | new norfolk\n",
      "Processing record 49 of Set 1 | palmer\n",
      "Processing record 50 of Set 1 | praia\n",
      "Processing record 51 of Set 1 | margate\n",
      "Processing record 52 of Set 1 | bluff\n",
      "Not Found\n",
      "Processing record 53 of Set 1 | heves\n",
      "Processing record 54 of Set 1 | dikson\n",
      "Not Found\n",
      "Processing record 55 of Set 1 | qaanaaq\n",
      "Not Found\n",
      "Processing record 56 of Set 1 | sakaiminato\n",
      "Processing record 57 of Set 1 | barrow\n",
      "Processing record 58 of Set 1 | samarai\n",
      "Processing record 59 of Set 1 | faanui\n",
      "Not Found\n",
      "Processing record 60 of Set 1 | naze\n",
      "Processing record 61 of Set 1 | ayagoz\n",
      "Processing record 62 of Set 1 | port alfred\n",
      "Processing record 63 of Set 1 | vardo\n",
      "Processing record 64 of Set 1 | atar\n",
      "Processing record 65 of Set 1 | phonhong\n",
      "Processing record 66 of Set 1 | portland\n",
      "Processing record 67 of Set 1 | bredasdorp\n",
      "Processing record 68 of Set 1 | ilave\n",
      "Processing record 69 of Set 1 | wilmington\n",
      "Processing record 70 of Set 1 | conde\n",
      "Processing record 71 of Set 1 | nanortalik\n",
      "Processing record 72 of Set 1 | byron bay\n",
      "Processing record 73 of Set 1 | yellowknife\n",
      "Processing record 74 of Set 1 | kavieng\n",
      "Processing record 75 of Set 1 | saldanha\n",
      "Processing record 76 of Set 1 | oranjemund\n",
      "Processing record 77 of Set 1 | wenling\n",
      "Processing record 78 of Set 1 | titay\n",
      "Processing record 79 of Set 1 | asosa\n",
      "Processing record 80 of Set 1 | coahuayana\n",
      "Processing record 81 of Set 1 | angoche\n",
      "Processing record 82 of Set 1 | nemuro\n",
      "Processing record 83 of Set 1 | hithadhoo\n",
      "Processing record 84 of Set 1 | vaini\n",
      "Processing record 85 of Set 1 | tuktoyaktuk\n",
      "Processing record 86 of Set 1 | puerto ayora\n",
      "Processing record 87 of Set 1 | ilulissat\n",
      "Processing record 88 of Set 1 | cap malheureux\n",
      "Processing record 89 of Set 1 | severo-kurilsk\n",
      "Processing record 90 of Set 1 | hilo\n",
      "Processing record 91 of Set 1 | nelson bay\n",
      "Not Found\n",
      "Processing record 92 of Set 1 | broome\n",
      "Processing record 93 of Set 1 | arlit\n",
      "Processing record 94 of Set 1 | ponta do sol\n",
      "Processing record 95 of Set 1 | kiama\n",
      "Processing record 96 of Set 1 | nampa\n",
      "Processing record 97 of Set 1 | georgetown\n",
      "Processing record 98 of Set 1 | anadyr\n",
      "Processing record 99 of Set 1 | bambous virieux\n",
      "Processing record 100 of Set 1 | kaitangata\n",
      "Processing record 101 of Set 1 | esperance\n",
      "Processing record 102 of Set 1 | jamestown\n",
      "Processing record 103 of Set 1 | krasnoarmeysk\n",
      "Processing record 104 of Set 1 | cobh\n",
      "Processing record 105 of Set 1 | chokurdakh\n",
      "Processing record 106 of Set 1 | fairbanks\n",
      "Processing record 107 of Set 1 | rosetta\n",
      "Processing record 108 of Set 1 | thompson\n",
      "Processing record 109 of Set 1 | souillac\n",
      "Processing record 110 of Set 1 | norman wells\n",
      "Processing record 111 of Set 1 | ongandjera\n",
      "Processing record 112 of Set 1 | kapaa\n",
      "Processing record 113 of Set 1 | chanute\n",
      "Processing record 114 of Set 1 | port hawkesbury\n",
      "Processing record 115 of Set 1 | alice springs\n",
      "Processing record 116 of Set 1 | severo-yeniseyskiy\n",
      "Processing record 117 of Set 1 | techiman\n",
      "Processing record 118 of Set 1 | saint-pierre\n",
      "Processing record 119 of Set 1 | uyuni\n",
      "Processing record 120 of Set 1 | manggar\n",
      "Processing record 121 of Set 1 | pisco\n",
      "Processing record 122 of Set 1 | miri\n",
      "Not Found\n",
      "Processing record 123 of Set 1 | saint george\n",
      "Processing record 124 of Set 1 | texas city\n",
      "Processing record 125 of Set 1 | sola\n",
      "Processing record 126 of Set 1 | laguna\n",
      "Processing record 127 of Set 1 | houston\n",
      "Processing record 128 of Set 1 | cape town\n",
      "Processing record 129 of Set 1 | oxchuc\n",
      "Not Found\n",
      "Processing record 130 of Set 1 | nurota\n",
      "Processing record 131 of Set 1 | avarua\n",
      "Not Found\n",
      "Processing record 132 of Set 1 | inhambane\n",
      "Processing record 133 of Set 1 | socorro\n",
      "Processing record 134 of Set 1 | sompeta\n",
      "Processing record 135 of Set 1 | port elizabeth\n",
      "Processing record 136 of Set 1 | luwuk\n",
      "Processing record 137 of Set 1 | muroto\n",
      "Processing record 138 of Set 1 | saskylakh\n",
      "Processing record 139 of Set 1 | avera\n",
      "Processing record 140 of Set 1 | sangar\n",
      "Processing record 141 of Set 1 | dickinson\n",
      "Processing record 142 of Set 1 | bengkulu\n",
      "Processing record 143 of Set 1 | yafran\n",
      "Processing record 144 of Set 1 | syracuse\n",
      "Processing record 145 of Set 1 | itarema\n",
      "Processing record 146 of Set 1 | takoradi\n",
      "Processing record 147 of Set 1 | north bend\n",
      "Processing record 148 of Set 1 | longyearbyen\n",
      "Processing record 149 of Set 1 | comodoro rivadavia\n",
      "Processing record 150 of Set 1 | pevek\n",
      "Processing record 151 of Set 1 | poronaysk\n",
      "Processing record 152 of Set 1 | luderitz\n",
      "Processing record 153 of Set 1 | viransehir\n",
      "Not Found\n",
      "Processing record 154 of Set 1 | ust-maya\n",
      "Processing record 155 of Set 1 | isangel\n",
      "Processing record 156 of Set 1 | ozernovskiy\n",
      "Processing record 157 of Set 1 | te anau\n",
      "Processing record 158 of Set 1 | cherskiy\n",
      "Processing record 159 of Set 1 | nome\n",
      "Processing record 160 of Set 1 | jinxiang\n",
      "Processing record 161 of Set 1 | laytown\n",
      "Not Found\n",
      "Processing record 162 of Set 1 | irbit\n",
      "Processing record 163 of Set 1 | siniscola\n",
      "Processing record 164 of Set 1 | ialibu\n",
      "Processing record 165 of Set 1 | akonolinga\n",
      "Processing record 166 of Set 1 | tabou\n",
      "Processing record 167 of Set 1 | hermanus\n",
      "Processing record 168 of Set 1 | kysyl-syr\n",
      "Processing record 169 of Set 1 | bhiwani\n",
      "Processing record 170 of Set 1 | palo alto\n",
      "Processing record 171 of Set 1 | ust-omchug\n",
      "Processing record 172 of Set 1 | tabuk\n",
      "Processing record 173 of Set 1 | waverly\n",
      "Processing record 174 of Set 1 | carnarvon\n",
      "Processing record 175 of Set 1 | sao filipe\n",
      "Processing record 176 of Set 1 | bandarbeyla\n",
      "Processing record 177 of Set 1 | san quintin\n",
      "Not Found\n",
      "Not Found\n",
      "Not Found\n",
      "Processing record 178 of Set 1 | sretensk\n",
      "Processing record 179 of Set 1 | kodiak\n",
      "Processing record 180 of Set 1 | viedma\n",
      "Processing record 181 of Set 1 | bilma\n",
      "Processing record 182 of Set 1 | milkovo\n",
      "Processing record 183 of Set 1 | cidreira\n",
      "Processing record 184 of Set 1 | acapulco\n",
      "Processing record 185 of Set 1 | porto novo\n",
      "Processing record 186 of Set 1 | afonino\n",
      "Processing record 187 of Set 1 | iqaluit\n",
      "Processing record 188 of Set 1 | bogorodskoye\n",
      "Processing record 189 of Set 1 | waingapu\n",
      "Processing record 190 of Set 1 | nouadhibou\n",
      "Processing record 191 of Set 1 | kisangani\n",
      "Processing record 192 of Set 1 | bath\n"
     ]
    },
    {
     "name": "stdout",
     "output_type": "stream",
     "text": [
      "Processing record 193 of Set 1 | wanning\n",
      "Processing record 194 of Set 1 | airai\n",
      "Processing record 195 of Set 1 | solnechnyy\n",
      "Processing record 196 of Set 1 | dubbo\n",
      "Processing record 197 of Set 1 | hami\n",
      "Not Found\n",
      "Processing record 198 of Set 1 | muros\n",
      "Processing record 199 of Set 1 | saint-ambroise\n",
      "Processing record 200 of Set 1 | alexandria\n",
      "Processing record 201 of Set 1 | puerto leguizamo\n",
      "Processing record 202 of Set 1 | namibe\n",
      "Processing record 203 of Set 1 | codrington\n",
      "Processing record 204 of Set 1 | brigantine\n",
      "Processing record 205 of Set 1 | kokstad\n",
      "Processing record 206 of Set 1 | salta\n",
      "Processing record 207 of Set 1 | loubomo\n",
      "Processing record 208 of Set 1 | aquiraz\n",
      "Processing record 209 of Set 1 | rocha\n",
      "Processing record 210 of Set 1 | saint-francois\n",
      "Processing record 211 of Set 1 | bom jardim\n",
      "Processing record 212 of Set 1 | flinders\n",
      "Processing record 213 of Set 1 | guerrero negro\n",
      "Processing record 214 of Set 1 | genhe\n",
      "Processing record 215 of Set 1 | boa vista\n",
      "Processing record 216 of Set 1 | tiksi\n",
      "Processing record 217 of Set 1 | roura\n",
      "Processing record 218 of Set 1 | ostrovnoy\n",
      "Processing record 219 of Set 1 | aksehir\n",
      "Not Found\n",
      "Processing record 220 of Set 1 | charleston\n",
      "Processing record 221 of Set 1 | cayenne\n",
      "Processing record 222 of Set 1 | adrar\n",
      "Processing record 223 of Set 1 | imeni poliny osipenko\n",
      "Processing record 224 of Set 1 | the valley\n",
      "Processing record 225 of Set 1 | provideniya\n",
      "Processing record 226 of Set 1 | palana\n",
      "Processing record 227 of Set 1 | bereda\n",
      "Processing record 228 of Set 1 | hasaki\n",
      "Processing record 229 of Set 1 | tautira\n",
      "Processing record 230 of Set 1 | castro\n",
      "Processing record 231 of Set 1 | egvekinot\n",
      "Processing record 232 of Set 1 | soyo\n",
      "Processing record 233 of Set 1 | beloha\n",
      "Processing record 234 of Set 1 | aykhal\n",
      "Processing record 235 of Set 1 | kruisfontein\n",
      "Processing record 236 of Set 1 | wollongong\n",
      "Not Found\n",
      "Processing record 237 of Set 1 | faridpur\n",
      "Processing record 238 of Set 1 | independence\n",
      "Not Found\n",
      "Processing record 239 of Set 1 | mae ramat\n",
      "Processing record 240 of Set 1 | moron\n",
      "Processing record 241 of Set 1 | alta floresta\n",
      "Processing record 242 of Set 1 | pedernales\n",
      "Processing record 243 of Set 1 | gizo\n",
      "Processing record 244 of Set 1 | khatanga\n",
      "Processing record 245 of Set 1 | atuona\n",
      "Processing record 246 of Set 1 | cairns\n",
      "Processing record 247 of Set 1 | petropavlovsk-kamchatskiy\n",
      "Processing record 248 of Set 1 | mandalgovi\n",
      "Processing record 249 of Set 1 | nishihara\n",
      "Processing record 250 of Set 1 | tiznit\n",
      "Processing record 251 of Set 1 | baykit\n",
      "Not Found\n",
      "Processing record 252 of Set 1 | manokwari\n",
      "Processing record 253 of Set 1 | port shepstone\n",
      "Not Found\n",
      "Processing record 254 of Set 1 | bastia\n",
      "Processing record 255 of Set 1 | los llanos de aridane\n",
      "Processing record 256 of Set 1 | metro\n",
      "Processing record 257 of Set 1 | coari\n",
      "Processing record 258 of Set 1 | kem\n",
      "Not Found\n",
      "Processing record 259 of Set 1 | phuket\n",
      "Processing record 260 of Set 1 | chipinge\n",
      "Processing record 261 of Set 1 | sabalgarh\n",
      "Processing record 262 of Set 1 | talnakh\n",
      "Processing record 263 of Set 1 | bagan\n",
      "Processing record 264 of Set 1 | yinchuan\n",
      "Processing record 265 of Set 1 | dawei\n",
      "Processing record 266 of Set 1 | puerto madryn\n",
      "Processing record 267 of Set 1 | bucerias\n",
      "Processing record 268 of Set 1 | bethel\n",
      "Processing record 269 of Set 1 | sao felix do xingu\n",
      "Processing record 270 of Set 1 | ahipara\n",
      "Processing record 271 of Set 1 | am timan\n",
      "Processing record 272 of Set 1 | bulawayo\n",
      "Processing record 273 of Set 1 | sfantu gheorghe\n",
      "Processing record 274 of Set 1 | aswan\n",
      "Processing record 275 of Set 1 | ahuimanu\n",
      "Not Found\n",
      "Processing record 276 of Set 1 | tasiilaq\n",
      "Processing record 277 of Set 1 | tuatapere\n",
      "Processing record 278 of Set 1 | andros town\n",
      "Processing record 279 of Set 1 | katangli\n",
      "Processing record 280 of Set 1 | honiara\n",
      "Processing record 281 of Set 1 | ribeira grande\n",
      "Not Found\n",
      "Processing record 282 of Set 1 | nisia floresta\n",
      "Processing record 283 of Set 1 | nacala\n",
      "Processing record 284 of Set 1 | urazovo\n",
      "Processing record 285 of Set 1 | kalocsa\n",
      "Processing record 286 of Set 1 | lamar\n",
      "Processing record 287 of Set 1 | acajutla\n",
      "Processing record 288 of Set 1 | husavik\n",
      "Processing record 289 of Set 1 | dakar\n",
      "Processing record 290 of Set 1 | novyy urengoy\n",
      "Processing record 291 of Set 1 | oistins\n",
      "Processing record 292 of Set 1 | saint-augustin\n",
      "Processing record 293 of Set 1 | progreso\n",
      "Processing record 294 of Set 1 | misratah\n",
      "Processing record 295 of Set 1 | bozhou\n",
      "Processing record 296 of Set 1 | mahebourg\n",
      "Processing record 297 of Set 1 | kamyshevatskaya\n",
      "Processing record 298 of Set 1 | key west\n",
      "Processing record 299 of Set 1 | malartic\n",
      "Processing record 300 of Set 1 | rawson\n",
      "Processing record 301 of Set 1 | shimoda\n",
      "Processing record 302 of Set 1 | taltal\n",
      "Processing record 303 of Set 1 | vanimo\n",
      "Not Found\n",
      "Not Found\n",
      "Processing record 304 of Set 1 | beatrice\n",
      "Processing record 305 of Set 1 | yulara\n",
      "Processing record 306 of Set 1 | pangnirtung\n",
      "Processing record 307 of Set 1 | sombrerete\n",
      "Processing record 308 of Set 1 | nha trang\n",
      "Not Found\n",
      "Processing record 309 of Set 1 | kangasala\n",
      "Processing record 310 of Set 1 | great sankey\n",
      "Processing record 311 of Set 1 | taraz\n",
      "Processing record 312 of Set 1 | coria\n",
      "Processing record 313 of Set 1 | vaitape\n",
      "Processing record 314 of Set 1 | kipini\n",
      "Processing record 315 of Set 1 | sarankhola\n",
      "Processing record 316 of Set 1 | twentynine palms\n",
      "Processing record 317 of Set 1 | trelew\n",
      "Processing record 318 of Set 1 | gunjur\n",
      "Processing record 319 of Set 1 | christchurch\n",
      "Processing record 320 of Set 1 | haukipudas\n",
      "Processing record 321 of Set 1 | bosobolo\n",
      "Processing record 322 of Set 1 | elizabeth city\n",
      "Processing record 323 of Set 1 | rincon\n",
      "Processing record 324 of Set 1 | telford\n",
      "Not Found\n",
      "Not Found\n",
      "Processing record 325 of Set 1 | harper\n",
      "Not Found\n",
      "Processing record 326 of Set 1 | anchorage\n",
      "Processing record 327 of Set 1 | fitii\n",
      "Processing record 328 of Set 1 | chimbote\n",
      "Processing record 329 of Set 1 | vinh\n",
      "Processing record 330 of Set 1 | caravelas\n",
      "Processing record 331 of Set 1 | lompoc\n",
      "Processing record 332 of Set 1 | takab\n",
      "Processing record 333 of Set 1 | albania\n",
      "Processing record 334 of Set 1 | geraldton\n",
      "Not Found\n",
      "Processing record 335 of Set 1 | salinas\n",
      "Processing record 336 of Set 1 | bardiyah\n",
      "Processing record 337 of Set 1 | kimparana\n",
      "Processing record 338 of Set 1 | totness\n",
      "Processing record 339 of Set 1 | celestun\n",
      "Processing record 340 of Set 1 | nokaneng\n",
      "Not Found\n",
      "Processing record 341 of Set 1 | santa cruz de tenerife\n",
      "Not Found\n",
      "Processing record 342 of Set 1 | leningradskiy\n",
      "Processing record 343 of Set 1 | constitucion\n",
      "Processing record 344 of Set 1 | lingyuan\n",
      "Processing record 345 of Set 1 | funchal\n",
      "Processing record 346 of Set 1 | khuzhir\n",
      "Processing record 347 of Set 1 | mola di bari\n",
      "Processing record 348 of Set 1 | coquimbo\n",
      "Processing record 349 of Set 1 | east london\n",
      "Processing record 350 of Set 1 | banda aceh\n",
      "Processing record 351 of Set 1 | ganzhou\n",
      "Processing record 352 of Set 1 | flin flon\n",
      "Processing record 353 of Set 1 | hastings\n",
      "Processing record 354 of Set 1 | omidiyeh\n",
      "Processing record 355 of Set 1 | fort frances\n",
      "Processing record 356 of Set 1 | saint anthony\n",
      "Processing record 357 of Set 1 | albemarle\n",
      "Not Found\n",
      "Processing record 358 of Set 1 | pointe michel\n",
      "Processing record 359 of Set 1 | vallenar\n",
      "Processing record 360 of Set 1 | vilyuysk\n",
      "Processing record 361 of Set 1 | gamba\n",
      "Processing record 362 of Set 1 | queenstown\n",
      "Processing record 363 of Set 1 | santa rosa\n",
      "Processing record 364 of Set 1 | zambezi\n",
      "Not Found\n",
      "Processing record 365 of Set 1 | kalabo\n",
      "Processing record 366 of Set 1 | komsomolskiy\n",
      "Processing record 367 of Set 1 | manica\n",
      "Processing record 368 of Set 1 | makubetsu\n",
      "Processing record 369 of Set 1 | warwick\n",
      "Processing record 370 of Set 1 | las lomas\n",
      "Processing record 371 of Set 1 | paamiut\n",
      "Processing record 372 of Set 1 | clarence town\n",
      "Processing record 373 of Set 1 | terney\n",
      "Not Found\n",
      "Processing record 374 of Set 1 | zaria\n",
      "Processing record 375 of Set 1 | seoul\n",
      "Processing record 376 of Set 1 | karachi\n",
      "Processing record 377 of Set 1 | klaksvik\n",
      "Processing record 378 of Set 1 | marawi\n",
      "Processing record 379 of Set 1 | aksu\n",
      "Processing record 380 of Set 1 | santo domingo\n"
     ]
    },
    {
     "name": "stdout",
     "output_type": "stream",
     "text": [
      "Processing record 381 of Set 1 | skjervoy\n",
      "Processing record 382 of Set 1 | dukat\n",
      "Processing record 383 of Set 1 | andrelandia\n",
      "Processing record 384 of Set 1 | benguela\n",
      "Processing record 385 of Set 1 | tual\n",
      "Processing record 386 of Set 1 | george\n",
      "Processing record 387 of Set 1 | korla\n",
      "Processing record 388 of Set 1 | pokhara\n",
      "Processing record 389 of Set 1 | hualmay\n",
      "Processing record 390 of Set 1 | hamilton\n",
      "Processing record 391 of Set 1 | mugumu\n",
      "Processing record 392 of Set 1 | lerwick\n",
      "Processing record 393 of Set 1 | henties bay\n",
      "Processing record 394 of Set 1 | bochil\n",
      "Processing record 395 of Set 1 | oda\n",
      "Processing record 396 of Set 1 | narsaq\n",
      "Processing record 397 of Set 1 | uglekamensk\n",
      "Not Found\n",
      "Processing record 398 of Set 1 | salalah\n",
      "Not Found\n",
      "Processing record 399 of Set 1 | gondanglegi\n",
      "Processing record 400 of Set 1 | zhezkazgan\n",
      "Processing record 401 of Set 1 | jabinyanah\n",
      "Processing record 402 of Set 1 | privolzhskiy\n",
      "Processing record 403 of Set 1 | hirara\n",
      "Not Found\n",
      "Processing record 404 of Set 1 | turukhansk\n",
      "Not Found\n",
      "Processing record 405 of Set 1 | torbay\n",
      "Processing record 406 of Set 1 | guilin\n",
      "Processing record 407 of Set 1 | abalak\n",
      "Processing record 408 of Set 1 | polson\n",
      "Processing record 409 of Set 1 | port hedland\n",
      "Processing record 410 of Set 1 | vila franca do campo\n",
      "Processing record 411 of Set 1 | pemberton\n",
      "Processing record 412 of Set 1 | ayolas\n",
      "Processing record 413 of Set 1 | ust-kulom\n",
      "Processing record 414 of Set 1 | sao desiderio\n",
      "Not Found\n",
      "Processing record 415 of Set 1 | maceio\n",
      "Processing record 416 of Set 1 | boca do acre\n",
      "Processing record 417 of Set 1 | porto de moz\n",
      "Processing record 418 of Set 1 | kentau\n",
      "Processing record 419 of Set 1 | leshukonskoye\n",
      "Processing record 420 of Set 1 | raudeberg\n",
      "Processing record 421 of Set 1 | naryan-mar\n",
      "Processing record 422 of Set 1 | linxia\n",
      "Processing record 423 of Set 1 | boguchany\n",
      "Processing record 424 of Set 1 | roma\n",
      "Processing record 425 of Set 1 | teguldet\n",
      "Processing record 426 of Set 1 | bemidji\n",
      "Processing record 427 of Set 1 | bridgetown\n",
      "Processing record 428 of Set 1 | taoudenni\n",
      "Processing record 429 of Set 1 | talakan\n",
      "Processing record 430 of Set 1 | bontang\n",
      "Processing record 431 of Set 1 | hofn\n",
      "Processing record 432 of Set 1 | plouzane\n",
      "Processing record 433 of Set 1 | yataity\n",
      "Processing record 434 of Set 1 | tazovskiy\n",
      "Processing record 435 of Set 1 | broken hill\n",
      "Processing record 436 of Set 1 | hauterive\n",
      "Processing record 437 of Set 1 | alkhan-kala\n",
      "Processing record 438 of Set 1 | lagoa\n",
      "Processing record 439 of Set 1 | uspenka\n",
      "Processing record 440 of Set 1 | princeton\n",
      "Processing record 441 of Set 1 | sungairaya\n",
      "Processing record 442 of Set 1 | bonavista\n",
      "Processing record 443 of Set 1 | inirida\n",
      "Processing record 444 of Set 1 | san carlos de bariloche\n",
      "Processing record 445 of Set 1 | tarut\n",
      "Processing record 446 of Set 1 | cockburn town\n",
      "Processing record 447 of Set 1 | voznesenye\n",
      "Processing record 448 of Set 1 | djenne\n",
      "Processing record 449 of Set 1 | camacha\n",
      "Processing record 450 of Set 1 | erdenet\n",
      "Processing record 451 of Set 1 | teya\n",
      "Processing record 452 of Set 1 | meulaboh\n",
      "Not Found\n",
      "Processing record 453 of Set 1 | alofi\n",
      "Processing record 454 of Set 1 | kyren\n",
      "Processing record 455 of Set 1 | bandar-e anzali\n",
      "Not Found\n",
      "Processing record 456 of Set 1 | kenora\n",
      "Processing record 457 of Set 1 | salekhard\n",
      "Processing record 458 of Set 1 | westport\n",
      "Processing record 459 of Set 1 | nantucket\n",
      "Processing record 460 of Set 1 | bocas del toro\n",
      "Processing record 461 of Set 1 | south venice\n",
      "Processing record 462 of Set 1 | tuy hoa\n",
      "Processing record 463 of Set 1 | kunming\n",
      "Processing record 464 of Set 1 | awbari\n",
      "Processing record 465 of Set 1 | tokur\n",
      "Processing record 466 of Set 1 | padang\n",
      "Processing record 467 of Set 1 | shenzhen\n",
      "Processing record 468 of Set 1 | mogocha\n",
      "Processing record 469 of Set 1 | dublin\n",
      "Not Found\n",
      "Not Found\n",
      "Processing record 470 of Set 1 | luanda\n",
      "Processing record 471 of Set 1 | kahului\n",
      "Not Found\n",
      "Processing record 472 of Set 1 | acarau\n",
      "Processing record 473 of Set 1 | wajima\n",
      "Processing record 474 of Set 1 | quatre cocos\n",
      "Processing record 475 of Set 1 | baghdad\n",
      "Processing record 476 of Set 1 | xunchang\n",
      "Processing record 477 of Set 1 | atbasar\n",
      "Processing record 478 of Set 1 | port blair\n",
      "Processing record 479 of Set 1 | foam lake\n",
      "Processing record 480 of Set 1 | high level\n",
      "Processing record 481 of Set 1 | upata\n",
      "Processing record 482 of Set 1 | wasilla\n",
      "Processing record 483 of Set 1 | northam\n",
      "Processing record 484 of Set 1 | mattru\n",
      "Processing record 485 of Set 1 | santa cruz\n",
      "Processing record 486 of Set 1 | karakulino\n",
      "Processing record 487 of Set 1 | yeppoon\n",
      "Processing record 488 of Set 1 | kalmunai\n",
      "Processing record 489 of Set 1 | kampot\n",
      "Processing record 490 of Set 1 | hurghada\n",
      "Processing record 491 of Set 1 | victoria\n",
      "Processing record 492 of Set 1 | aksarka\n",
      "Processing record 493 of Set 1 | vostok\n",
      "Processing record 494 of Set 1 | denpasar\n",
      "Processing record 495 of Set 1 | phalodi\n",
      "Processing record 496 of Set 1 | filingue\n",
      "Processing record 497 of Set 1 | atambua\n",
      "Processing record 498 of Set 1 | arvin\n",
      "Processing record 499 of Set 1 | horki\n",
      "Processing record 500 of Set 1 | ojinaga\n",
      "Processing record 501 of Set 1 | mackay\n",
      "Processing record 502 of Set 1 | praia da vitoria\n",
      "Processing record 503 of Set 1 | lufilufi\n",
      "Processing record 504 of Set 1 | coihaique\n",
      "Processing record 505 of Set 1 | varfurile\n",
      "Processing record 506 of Set 1 | zhangye\n",
      "Processing record 507 of Set 1 | ligayan\n",
      "Processing record 508 of Set 1 | suhut\n",
      "Processing record 509 of Set 1 | frankfort\n",
      "Processing record 510 of Set 1 | zyryanka\n",
      "Processing record 511 of Set 1 | alem paraiba\n",
      "Processing record 512 of Set 1 | sovetskiy\n",
      "Processing record 513 of Set 1 | sao joao da barra\n",
      "Processing record 514 of Set 1 | rybnoye\n",
      "Processing record 515 of Set 1 | kenai\n",
      "Processing record 516 of Set 1 | illapel\n",
      "Processing record 517 of Set 1 | beyla\n",
      "Processing record 518 of Set 1 | heiligenhafen\n",
      "Processing record 519 of Set 1 | rio gallegos\n",
      "Processing record 520 of Set 1 | ixtapa\n",
      "Processing record 521 of Set 1 | mildura\n",
      "Processing record 522 of Set 1 | den helder\n",
      "Processing record 523 of Set 1 | krasnoselkup\n",
      "Processing record 524 of Set 1 | port lincoln\n",
      "Processing record 525 of Set 1 | juneau\n",
      "Processing record 526 of Set 1 | koslan\n",
      "Processing record 527 of Set 1 | xuzhou\n",
      "Processing record 528 of Set 1 | wichita falls\n",
      "Processing record 529 of Set 1 | marsaxlokk\n",
      "Processing record 530 of Set 1 | kyakhta\n",
      "Processing record 531 of Set 1 | bowen\n",
      "Processing record 532 of Set 1 | beringovskiy\n",
      "Processing record 533 of Set 1 | saint pete beach\n",
      "Processing record 534 of Set 1 | villa carlos paz\n",
      "Processing record 535 of Set 1 | axim\n",
      "Processing record 536 of Set 1 | saint-georges\n",
      "Processing record 537 of Set 1 | huarmey\n",
      "Processing record 538 of Set 1 | glace bay\n",
      "Processing record 539 of Set 1 | mocuba\n",
      "Processing record 540 of Set 1 | georgiyevka\n",
      "Processing record 541 of Set 1 | payson\n",
      "Processing record 542 of Set 1 | kasongo-lunda\n",
      "Processing record 543 of Set 1 | valparaiso\n",
      "Processing record 544 of Set 1 | katsuura\n",
      "Processing record 545 of Set 1 | warmbad\n",
      "Processing record 546 of Set 1 | altamira\n",
      "Processing record 547 of Set 1 | yook\n",
      "Processing record 548 of Set 1 | corum\n",
      "Processing record 549 of Set 1 | kargopol\n",
      "Processing record 550 of Set 1 | lasa\n",
      "Processing record 551 of Set 1 | esqueda\n",
      "Processing record 552 of Set 1 | dzhebariki-khaya\n",
      "Processing record 553 of Set 1 | imbituba\n",
      "Processing record 554 of Set 1 | grindavik\n",
      "Processing record 555 of Set 1 | tigil\n",
      "Processing record 556 of Set 1 | thanh hoa\n",
      "Processing record 557 of Set 1 | sept-iles\n",
      "Processing record 558 of Set 1 | gandara\n",
      "Processing record 559 of Set 1 | aripuana\n",
      "Processing record 560 of Set 1 | olinda\n",
      "Processing record 561 of Set 1 | baruun-urt\n",
      "Processing record 562 of Set 1 | rio tercero\n",
      "Processing record 563 of Set 1 | angola\n",
      "Processing record 564 of Set 1 | sioux lookout\n",
      "Processing record 565 of Set 1 | zhigansk\n",
      "Processing record 566 of Set 1 | loncoche\n",
      "Processing record 567 of Set 1 | novodugino\n",
      "Processing record 568 of Set 1 | locri\n",
      "Not Found\n",
      "Processing record 569 of Set 1 | sayyan\n",
      "Processing record 570 of Set 1 | umm lajj\n",
      "Processing record 571 of Set 1 | yenotayevka\n",
      "Processing record 572 of Set 1 | dingle\n"
     ]
    },
    {
     "name": "stdout",
     "output_type": "stream",
     "text": [
      "Processing record 573 of Set 1 | kedrovyy\n",
      "Processing record 574 of Set 1 | ust-nera\n",
      "Processing record 575 of Set 1 | duiwelskloof\n",
      "Processing record 576 of Set 1 | opuwo\n",
      "Processing record 577 of Set 1 | grand-santi\n",
      "Processing record 578 of Set 1 | gashua\n",
      "Processing record 579 of Set 1 | san cristobal\n",
      "Processing record 580 of Set 1 | lumphat\n",
      "Processing record 581 of Set 1 | primorsko-akhtarsk\n",
      "Processing record 582 of Set 1 | hovd\n",
      "Processing record 583 of Set 1 | bandundu\n",
      "Processing record 584 of Set 1 | zaraza\n",
      "Not Found\n",
      "Processing record 585 of Set 1 | songea\n",
      "Processing record 586 of Set 1 | bumba\n",
      "Processing record 587 of Set 1 | ust-ilimsk\n",
      "Processing record 588 of Set 1 | sun city west\n",
      "Processing record 589 of Set 1 | ezequiel montes\n",
      "Processing record 590 of Set 1 | tahta\n",
      "Processing record 591 of Set 1 | ussel\n",
      "Processing record 592 of Set 1 | kavaratti\n",
      "Processing record 593 of Set 1 | puerto escondido\n",
      "Not Found\n",
      "Processing record 594 of Set 1 | ust-karsk\n",
      "Processing record 595 of Set 1 | calamar\n"
     ]
    }
   ],
   "source": [
    "url = \"http://api.openweathermap.org/data/2.5/forecast?id=524901&APPID=\"\n",
    "target_url = url + weather_api_key\n",
    "target_url \n",
    "\n",
    "cityname = []\n",
    "cloudiness = []\n",
    "country = []\n",
    "date = []\n",
    "humidity = []\n",
    "lat = []\n",
    "lng = []\n",
    "max_temp = []\n",
    "wind_speed = []\n",
    "count = 0\n",
    "\n",
    "\n",
    "for city in cities:\n",
    "    weather_response = requests.get(target_url + \"&q=\" + city + \"&units=Imperial\")\n",
    "    weather_json = weather_response.json()\n",
    "    try:\n",
    "        cityname.append(weather_json['city']['name'])\n",
    "        cloudiness.append(weather_json['list'][0]['clouds']['all'])\n",
    "        country.append(weather_json['city']['country'])\n",
    "        date.append(weather_json['list'][0]['dt'])\n",
    "        humidity.append(weather_json['list'][0]['main']['humidity'])\n",
    "        lat.append(weather_json['city']['coord']['lat'])\n",
    "        lng.append(weather_json['city']['coord']['lon'])\n",
    "        max_temp.append(weather_json['list'][0]['main']['temp_max'])\n",
    "        wind_speed.append(weather_json['list'][0]['wind']['speed'])\n",
    "        count = count + 1\n",
    "        print(f\"Processing record {count} of Set 1 | {city}\")\n",
    "    except:\n",
    "        print(\"Not Found\") \n",
    "        pass\n",
    "        "
   ]
  },
  {
   "cell_type": "markdown",
   "metadata": {},
   "source": [
    "### Convert Raw Data to DataFrame\n",
    "* Export the city data into a .csv.\n",
    "* Display the DataFrame"
   ]
  },
  {
   "cell_type": "code",
   "execution_count": 8,
   "metadata": {},
   "outputs": [
    {
     "data": {
      "text/plain": [
       "595"
      ]
     },
     "execution_count": 8,
     "metadata": {},
     "output_type": "execute_result"
    }
   ],
   "source": [
    "weather_dict = {\"City\": cityname,\"Latitude\": lat, \"Longitude\":lng,\n",
    "                \"Max Temp\":max_temp,\"Humidity\":humidity,\"Cloudiness\":cloudiness,\n",
    "                \"Wind Speed\":wind_speed,\"Country\":country, \"Date\":date}\n",
    "weather_data = pd.DataFrame(weather_dict)\n",
    "weather_data.head()\n",
    "\n",
    "weather_data.to_csv(r'output_data')\n",
    "\n",
    "countforme = len(weather_data)\n",
    "countforme"
   ]
  },
  {
   "cell_type": "code",
   "execution_count": 9,
   "metadata": {},
   "outputs": [
    {
     "data": {
      "text/html": [
       "<div>\n",
       "<style scoped>\n",
       "    .dataframe tbody tr th:only-of-type {\n",
       "        vertical-align: middle;\n",
       "    }\n",
       "\n",
       "    .dataframe tbody tr th {\n",
       "        vertical-align: top;\n",
       "    }\n",
       "\n",
       "    .dataframe thead th {\n",
       "        text-align: right;\n",
       "    }\n",
       "</style>\n",
       "<table border=\"1\" class=\"dataframe\">\n",
       "  <thead>\n",
       "    <tr style=\"text-align: right;\">\n",
       "      <th></th>\n",
       "      <th>City</th>\n",
       "      <th>Latitude</th>\n",
       "      <th>Longitude</th>\n",
       "      <th>Max Temp</th>\n",
       "      <th>Humidity</th>\n",
       "      <th>Cloudiness</th>\n",
       "      <th>Wind Speed</th>\n",
       "      <th>Country</th>\n",
       "      <th>Date</th>\n",
       "    </tr>\n",
       "  </thead>\n",
       "  <tbody>\n",
       "    <tr>\n",
       "      <th>0</th>\n",
       "      <td>Ugoofaaru</td>\n",
       "      <td>5.6667</td>\n",
       "      <td>73.0000</td>\n",
       "      <td>81.39</td>\n",
       "      <td>79</td>\n",
       "      <td>16</td>\n",
       "      <td>12.86</td>\n",
       "      <td>MV</td>\n",
       "      <td>1610938800</td>\n",
       "    </tr>\n",
       "    <tr>\n",
       "      <th>1</th>\n",
       "      <td>Clyde River</td>\n",
       "      <td>70.4692</td>\n",
       "      <td>-68.5914</td>\n",
       "      <td>4.06</td>\n",
       "      <td>91</td>\n",
       "      <td>95</td>\n",
       "      <td>16.40</td>\n",
       "      <td>CA</td>\n",
       "      <td>1610938800</td>\n",
       "    </tr>\n",
       "    <tr>\n",
       "      <th>2</th>\n",
       "      <td>Emmett</td>\n",
       "      <td>43.8735</td>\n",
       "      <td>-116.4993</td>\n",
       "      <td>34.00</td>\n",
       "      <td>88</td>\n",
       "      <td>99</td>\n",
       "      <td>4.41</td>\n",
       "      <td>US</td>\n",
       "      <td>1610938800</td>\n",
       "    </tr>\n",
       "    <tr>\n",
       "      <th>3</th>\n",
       "      <td>Abhā</td>\n",
       "      <td>18.2164</td>\n",
       "      <td>42.5053</td>\n",
       "      <td>51.48</td>\n",
       "      <td>81</td>\n",
       "      <td>1</td>\n",
       "      <td>3.69</td>\n",
       "      <td>SA</td>\n",
       "      <td>1610938800</td>\n",
       "    </tr>\n",
       "    <tr>\n",
       "      <th>4</th>\n",
       "      <td>Ushuaia</td>\n",
       "      <td>-54.8000</td>\n",
       "      <td>-68.3000</td>\n",
       "      <td>48.58</td>\n",
       "      <td>83</td>\n",
       "      <td>68</td>\n",
       "      <td>5.93</td>\n",
       "      <td>AR</td>\n",
       "      <td>1610938800</td>\n",
       "    </tr>\n",
       "  </tbody>\n",
       "</table>\n",
       "</div>"
      ],
      "text/plain": [
       "          City  Latitude  Longitude  Max Temp  Humidity  Cloudiness  \\\n",
       "0    Ugoofaaru    5.6667    73.0000     81.39        79          16   \n",
       "1  Clyde River   70.4692   -68.5914      4.06        91          95   \n",
       "2       Emmett   43.8735  -116.4993     34.00        88          99   \n",
       "3         Abhā   18.2164    42.5053     51.48        81           1   \n",
       "4      Ushuaia  -54.8000   -68.3000     48.58        83          68   \n",
       "\n",
       "   Wind Speed Country        Date  \n",
       "0       12.86      MV  1610938800  \n",
       "1       16.40      CA  1610938800  \n",
       "2        4.41      US  1610938800  \n",
       "3        3.69      SA  1610938800  \n",
       "4        5.93      AR  1610938800  "
      ]
     },
     "execution_count": 9,
     "metadata": {},
     "output_type": "execute_result"
    }
   ],
   "source": [
    "weather_data.head()"
   ]
  },
  {
   "cell_type": "markdown",
   "metadata": {},
   "source": [
    "## Inspect the data and remove the cities where the humidity > 100%.\n",
    "----\n",
    "Skip this step if there are no cities that have humidity > 100%. "
   ]
  },
  {
   "cell_type": "code",
   "execution_count": null,
   "metadata": {},
   "outputs": [],
   "source": []
  },
  {
   "cell_type": "code",
   "execution_count": 6,
   "metadata": {},
   "outputs": [],
   "source": [
    "#  Get the indices of cities that have humidity over 100%.\n"
   ]
  },
  {
   "cell_type": "code",
   "execution_count": 7,
   "metadata": {},
   "outputs": [],
   "source": [
    "# Make a new DataFrame equal to the city data to drop all humidity outliers by index.\n",
    "# Passing \"inplace=False\" will make a copy of the city_data DataFrame, which we call \"clean_city_data\".\n"
   ]
  },
  {
   "cell_type": "code",
   "execution_count": null,
   "metadata": {},
   "outputs": [],
   "source": [
    "\n"
   ]
  },
  {
   "cell_type": "markdown",
   "metadata": {},
   "source": [
    "## Plotting the Data\n",
    "* Use proper labeling of the plots using plot titles (including date of analysis) and axes labels.\n",
    "* Save the plotted figures as .pngs."
   ]
  },
  {
   "cell_type": "markdown",
   "metadata": {},
   "source": [
    "## Latitude vs. Temperature Plot"
   ]
  },
  {
   "cell_type": "code",
   "execution_count": 8,
   "metadata": {
    "scrolled": true
   },
   "outputs": [
    {
     "data": {
      "image/png": "[encoded data removed]",
      "text/plain": [
       "<Figure size 432x288 with 1 Axes>"
      ]
     },
     "metadata": {
      "needs_background": "light"
     },
     "output_type": "display_data"
    }
   ],
   "source": [
    "scatlat = weather_data[\"Latitude\"]\n",
    "scattemp = weather_data[\"Max Temp\"]\n",
    "\n",
    "plt.scatter(scatlat,scattemp)\n",
    "plt.title('City Latitude vs. Max Temperature')\n",
    "plt.xlabel('Latitude')\n",
    "plt.ylabel('Max Temperature (F)')\n",
    "plt.savefig('scatplotlatitudemaxtemp')\n",
    "plt.show()"
   ]
  },
  {
   "cell_type": "markdown",
   "metadata": {},
   "source": [
    "## Latitude vs. Humidity Plot"
   ]
  },
  {
   "cell_type": "code",
   "execution_count": 9,
   "metadata": {},
   "outputs": [
    {
     "data": {
      "image/png": "[encoded data removed]",
      "text/plain": [
       "<Figure size 432x288 with 1 Axes>"
      ]
     },
     "metadata": {
      "needs_background": "light"
     },
     "output_type": "display_data"
    }
   ],
   "source": [
    "scathum = weather_data[\"Humidity\"]\n",
    "\n",
    "plt.scatter(scatlat,scathum)\n",
    "plt.title('City Latitude vs. Humidity')\n",
    "plt.xlabel('Latitude')\n",
    "plt.ylabel('Humidity (%)')\n",
    "plt.savefig('scatplotlatitudehumidity')\n",
    "plt.show()"
   ]
  },
  {
   "cell_type": "markdown",
   "metadata": {},
   "source": [
    "## Latitude vs. Cloudiness Plot"
   ]
  },
  {
   "cell_type": "code",
   "execution_count": 10,
   "metadata": {},
   "outputs": [
    {
     "data": {
      "image/png": "[encoded data removed]",
      "text/plain": [
       "<Figure size 432x288 with 1 Axes>"
      ]
     },
     "metadata": {
      "needs_background": "light"
     },
     "output_type": "display_data"
    }
   ],
   "source": [
    "scatcloud = weather_data[\"Cloudiness\"]\n",
    "\n",
    "plt.scatter(scatlat,scatcloud)\n",
    "plt.title('City Latitude vs. Cloudiness')\n",
    "plt.xlabel('Latitude')\n",
    "plt.ylabel('Cloudiness (%)')\n",
    "plt.savefig('scatplotlatitudecloudiness')\n",
    "plt.show()"
   ]
  },
  {
   "cell_type": "markdown",
   "metadata": {},
   "source": [
    "## Latitude vs. Wind Speed Plot"
   ]
  },
  {
   "cell_type": "code",
   "execution_count": 11,
   "metadata": {},
   "outputs": [
    {
     "data": {
      "image/png": "[encoded data removed]",
      "text/plain": [
       "<Figure size 432x288 with 1 Axes>"
      ]
     },
     "metadata": {
      "needs_background": "light"
     },
     "output_type": "display_data"
    }
   ],
   "source": [
    "scatwindsp = weather_data[\"Wind Speed\"]\n",
    "\n",
    "plt.scatter(scatlat,scatwindsp)\n",
    "plt.title('City Latitude vs. Wind Speed')\n",
    "plt.xlabel('Latitude')\n",
    "plt.ylabel('Wind Speed (mph)')\n",
    "plt.savefig('scatplotlatitudewindspeed')\n",
    "plt.show()"
   ]
  },
  {
   "cell_type": "markdown",
   "metadata": {},
   "source": [
    "## Linear Regression"
   ]
  },
  {
   "cell_type": "code",
   "execution_count": 12,
   "metadata": {},
   "outputs": [
    {
     "data": {
      "text/html": [
       "<div>\n",
       "<style scoped>\n",
       "    .dataframe tbody tr th:only-of-type {\n",
       "        vertical-align: middle;\n",
       "    }\n",
       "\n",
       "    .dataframe tbody tr th {\n",
       "        vertical-align: top;\n",
       "    }\n",
       "\n",
       "    .dataframe thead th {\n",
       "        text-align: right;\n",
       "    }\n",
       "</style>\n",
       "<table border=\"1\" class=\"dataframe\">\n",
       "  <thead>\n",
       "    <tr style=\"text-align: right;\">\n",
       "      <th></th>\n",
       "      <th>City</th>\n",
       "      <th>Latitude</th>\n",
       "      <th>Longitude</th>\n",
       "      <th>Max Temp</th>\n",
       "      <th>Humidity</th>\n",
       "      <th>Cloudiness</th>\n",
       "      <th>Wind Speed</th>\n",
       "      <th>Country</th>\n",
       "      <th>Date</th>\n",
       "    </tr>\n",
       "  </thead>\n",
       "  <tbody>\n",
       "    <tr>\n",
       "      <th>0</th>\n",
       "      <td>Albany</td>\n",
       "      <td>42.6001</td>\n",
       "      <td>-73.9662</td>\n",
       "      <td>30.43</td>\n",
       "      <td>80</td>\n",
       "      <td>93</td>\n",
       "      <td>7.05</td>\n",
       "      <td>US</td>\n",
       "      <td>1610884800</td>\n",
       "    </tr>\n",
       "    <tr>\n",
       "      <th>1</th>\n",
       "      <td>George Town</td>\n",
       "      <td>5.4112</td>\n",
       "      <td>100.3354</td>\n",
       "      <td>82.11</td>\n",
       "      <td>77</td>\n",
       "      <td>50</td>\n",
       "      <td>1.88</td>\n",
       "      <td>MY</td>\n",
       "      <td>1610884800</td>\n",
       "    </tr>\n",
       "    <tr>\n",
       "      <th>3</th>\n",
       "      <td>Taywarah</td>\n",
       "      <td>33.3500</td>\n",
       "      <td>64.4167</td>\n",
       "      <td>34.05</td>\n",
       "      <td>77</td>\n",
       "      <td>0</td>\n",
       "      <td>3.42</td>\n",
       "      <td>AF</td>\n",
       "      <td>1610884800</td>\n",
       "    </tr>\n",
       "    <tr>\n",
       "      <th>4</th>\n",
       "      <td>Hilo</td>\n",
       "      <td>19.7297</td>\n",
       "      <td>-155.0900</td>\n",
       "      <td>72.95</td>\n",
       "      <td>72</td>\n",
       "      <td>58</td>\n",
       "      <td>7.92</td>\n",
       "      <td>US</td>\n",
       "      <td>1610884800</td>\n",
       "    </tr>\n",
       "    <tr>\n",
       "      <th>5</th>\n",
       "      <td>Khatanga</td>\n",
       "      <td>71.9667</td>\n",
       "      <td>102.5000</td>\n",
       "      <td>-25.06</td>\n",
       "      <td>83</td>\n",
       "      <td>5</td>\n",
       "      <td>11.30</td>\n",
       "      <td>RU</td>\n",
       "      <td>1610884800</td>\n",
       "    </tr>\n",
       "  </tbody>\n",
       "</table>\n",
       "</div>"
      ],
      "text/plain": [
       "          City  Latitude  Longitude  Max Temp  Humidity  Cloudiness  \\\n",
       "0       Albany   42.6001   -73.9662     30.43        80          93   \n",
       "1  George Town    5.4112   100.3354     82.11        77          50   \n",
       "3     Taywarah   33.3500    64.4167     34.05        77           0   \n",
       "4         Hilo   19.7297  -155.0900     72.95        72          58   \n",
       "5     Khatanga   71.9667   102.5000    -25.06        83           5   \n",
       "\n",
       "   Wind Speed Country        Date  \n",
       "0        7.05      US  1610884800  \n",
       "1        1.88      MY  1610884800  \n",
       "3        3.42      AF  1610884800  \n",
       "4        7.92      US  1610884800  \n",
       "5       11.30      RU  1610884800  "
      ]
     },
     "execution_count": 12,
     "metadata": {},
     "output_type": "execute_result"
    }
   ],
   "source": [
    "def linear_regression(x_values, y_values, title, text_coordinates):\n",
    "    (slope, intercept, rvalue, pvalue, stderr) = linregress(x_values, y_values)\n",
    "    regress_values = x_values * slope + intercept\n",
    "    line_eq = \"y = \" + str(round(slope,2)) + \"x + \" + str(round(intercept,2))\n",
    "    \n",
    "    plt.scatter(x_values,y_values)\n",
    "    plt.plot(x_values,regress_values,\"r-\")\n",
    "    plt.annotate(line_eq,text_coordinates,fontsize=14,color=\"red\")\n",
    "    plt.xlabel(\"Latitude\")\n",
    "    plt.ylabel(title)\n",
    "    print(f\"The r-squared is: {rvalue}\")\n",
    "    plt.show()\n",
    "    \n",
    "northlat_df = weather_data.loc[weather_data[\"Latitude\"] >= 0,:]\n",
    "southlat_df = weather_data.loc[weather_data[\"Latitude\"] < 0,:]\n",
    "\n",
    "northlat_df.head()"
   ]
  },
  {
   "cell_type": "markdown",
   "metadata": {},
   "source": [
    "####  Northern Hemisphere - Max Temp vs. Latitude Linear Regression"
   ]
  },
  {
   "cell_type": "code",
   "execution_count": 13,
   "metadata": {},
   "outputs": [
    {
     "name": "stdout",
     "output_type": "stream",
     "text": [
      "The r-squared is: -0.8544659441147815\n"
     ]
    },
    {
     "data": {
      "image/png": "[encoded data removed]",
      "text/plain": [
       "<Figure size 432x288 with 1 Axes>"
      ]
     },
     "metadata": {
      "needs_background": "light"
     },
     "output_type": "display_data"
    },
    {
     "name": "stdout",
     "output_type": "stream",
     "text": [
      "The r value suggests that there is a negative correlation between latitiude and tempreture\n"
     ]
    },
    {
     "data": {
      "text/plain": [
       "<Figure size 432x288 with 0 Axes>"
      ]
     },
     "metadata": {},
     "output_type": "display_data"
    }
   ],
   "source": [
    "x_values = northlat_df[\"Latitude\"]\n",
    "y_values = northlat_df[\"Max Temp\"]\n",
    "\n",
    "linear_regression(x_values,y_values,'Max Temp',(6,30))\n",
    "\n",
    "plt.savefig('Picture1')\n",
    "\n",
    "print(\"The r value suggests that there is a negative correlation between latitiude and tempreture\")"
   ]
  },
  {
   "cell_type": "code",
   "execution_count": null,
   "metadata": {},
   "outputs": [],
   "source": []
  },
  {
   "cell_type": "markdown",
   "metadata": {},
   "source": [
    "####  Southern Hemisphere - Max Temp vs. Latitude Linear Regression"
   ]
  },
  {
   "cell_type": "code",
   "execution_count": 14,
   "metadata": {},
   "outputs": [
    {
     "name": "stdout",
     "output_type": "stream",
     "text": [
      "The r-squared is: 0.6180555724897914\n"
     ]
    },
    {
     "data": {
      "image/png": "[encoded data removed]",
      "text/plain": [
       "<Figure size 432x288 with 1 Axes>"
      ]
     },
     "metadata": {
      "needs_background": "light"
     },
     "output_type": "display_data"
    },
    {
     "name": "stdout",
     "output_type": "stream",
     "text": [
      "The high r value means there is a strong positive correlation between latitude and max temperature.\n"
     ]
    },
    {
     "data": {
      "text/plain": [
       "<Figure size 432x288 with 0 Axes>"
      ]
     },
     "metadata": {},
     "output_type": "display_data"
    }
   ],
   "source": [
    "\n",
    "x_values = southlat_df[\"Latitude\"]\n",
    "y_values = southlat_df[\"Max Temp\"]\n",
    "linear_regression(x_values,y_values,'Max Temp',(6,30))\n",
    "\n",
    "plt.savefig('Picture2')\n",
    "\n",
    "print(\"The high r value means there is a strong positive correlation between latitude and max temperature.\")"
   ]
  },
  {
   "cell_type": "markdown",
   "metadata": {},
   "source": [
    "####  Northern Hemisphere - Humidity (%) vs. Latitude Linear Regression"
   ]
  },
  {
   "cell_type": "code",
   "execution_count": 15,
   "metadata": {},
   "outputs": [
    {
     "name": "stdout",
     "output_type": "stream",
     "text": [
      "The r-squared is: 0.46397808575281985\n"
     ]
    },
    {
     "data": {
      "image/png": "[encoded data removed]",
      "text/plain": [
       "<Figure size 432x288 with 1 Axes>"
      ]
     },
     "metadata": {
      "needs_background": "light"
     },
     "output_type": "display_data"
    },
    {
     "name": "stdout",
     "output_type": "stream",
     "text": [
      "The high r value indicates a strong positive correlation between latitude and humidity\n"
     ]
    },
    {
     "data": {
      "text/plain": [
       "<Figure size 432x288 with 0 Axes>"
      ]
     },
     "metadata": {},
     "output_type": "display_data"
    }
   ],
   "source": [
    "x_values = northlat_df[\"Latitude\"]\n",
    "y_values = northlat_df[\"Humidity\"]\n",
    "linear_regression(x_values,y_values,'Humidity',(6,30))\n",
    "\n",
    "plt.savefig('Picture3')\n",
    "\n",
    "print(\"The high r value indicates a strong positive correlation between latitude and humidity\")"
   ]
  },
  {
   "cell_type": "markdown",
   "metadata": {},
   "source": [
    "####  Southern Hemisphere - Humidity (%) vs. Latitude Linear Regression"
   ]
  },
  {
   "cell_type": "code",
   "execution_count": 16,
   "metadata": {},
   "outputs": [
    {
     "name": "stdout",
     "output_type": "stream",
     "text": [
      "The r-squared is: 0.12138192059356513\n"
     ]
    },
    {
     "data": {
      "image/png": "[encoded data removed]",
      "text/plain": [
       "<Figure size 432x288 with 1 Axes>"
      ]
     },
     "metadata": {
      "needs_background": "light"
     },
     "output_type": "display_data"
    },
    {
     "name": "stdout",
     "output_type": "stream",
     "text": [
      "The low r value indicates a weak correlation between latitude and humidity\n"
     ]
    },
    {
     "data": {
      "text/plain": [
       "<Figure size 432x288 with 0 Axes>"
      ]
     },
     "metadata": {},
     "output_type": "display_data"
    }
   ],
   "source": [
    "x_values = southlat_df[\"Latitude\"]\n",
    "y_values = southlat_df[\"Humidity\"]\n",
    "linear_regression(x_values,y_values,'Humidity',(6,30))\n",
    "\n",
    "plt.savefig('Picture4')\n",
    "\n",
    "print(\"The low r value indicates a weak correlation between latitude and humidity\")"
   ]
  },
  {
   "cell_type": "markdown",
   "metadata": {},
   "source": [
    "####  Northern Hemisphere - Cloudiness (%) vs. Latitude Linear Regression"
   ]
  },
  {
   "cell_type": "code",
   "execution_count": 17,
   "metadata": {},
   "outputs": [
    {
     "name": "stdout",
     "output_type": "stream",
     "text": [
      "The r-squared is: 0.26775743433298715\n"
     ]
    },
    {
     "data": {
      "image/png": "[encoded data removed]",
      "text/plain": [
       "<Figure size 432x288 with 1 Axes>"
      ]
     },
     "metadata": {
      "needs_background": "light"
     },
     "output_type": "display_data"
    },
    {
     "name": "stdout",
     "output_type": "stream",
     "text": [
      "The low r value indicates a very weak negative correlation between latitude and cloudiness\n"
     ]
    },
    {
     "data": {
      "text/plain": [
       "<Figure size 432x288 with 0 Axes>"
      ]
     },
     "metadata": {},
     "output_type": "display_data"
    }
   ],
   "source": [
    "x_values = northlat_df[\"Latitude\"]\n",
    "y_values = northlat_df[\"Cloudiness\"]\n",
    "linear_regression(x_values,y_values,'Cloudiness',(6,30))\n",
    "\n",
    "plt.savefig('Picture5')\n",
    "\n",
    "print(\"The low r value indicates a very weak negative correlation between latitude and cloudiness\")"
   ]
  },
  {
   "cell_type": "markdown",
   "metadata": {},
   "source": [
    "####  Southern Hemisphere - Cloudiness (%) vs. Latitude Linear Regression"
   ]
  },
  {
   "cell_type": "code",
   "execution_count": 18,
   "metadata": {},
   "outputs": [
    {
     "name": "stdout",
     "output_type": "stream",
     "text": [
      "The r-squared is: 0.26301239707935997\n"
     ]
    },
    {
     "data": {
      "image/png": "[encoded data removed]",
      "text/plain": [
       "<Figure size 432x288 with 1 Axes>"
      ]
     },
     "metadata": {
      "needs_background": "light"
     },
     "output_type": "display_data"
    },
    {
     "name": "stdout",
     "output_type": "stream",
     "text": [
      "The  r value indicates a strong positive correlation between latitude and cloudiness\n"
     ]
    },
    {
     "data": {
      "text/plain": [
       "<Figure size 432x288 with 0 Axes>"
      ]
     },
     "metadata": {},
     "output_type": "display_data"
    }
   ],
   "source": [
    "x_values = southlat_df[\"Latitude\"]\n",
    "y_values = southlat_df[\"Cloudiness\"]\n",
    "linear_regression(x_values,y_values,'Cloudiness',(6,30)) \n",
    "\n",
    "plt.savefig('Picture6')\n",
    "\n",
    "print(\"The  r value indicates a strong positive correlation between latitude and cloudiness\")"
   ]
  },
  {
   "cell_type": "markdown",
   "metadata": {},
   "source": [
    "####  Northern Hemisphere - Wind Speed (mph) vs. Latitude Linear Regression"
   ]
  },
  {
   "cell_type": "code",
   "execution_count": 19,
   "metadata": {},
   "outputs": [
    {
     "name": "stdout",
     "output_type": "stream",
     "text": [
      "The r-squared is: 0.04174923475008566\n"
     ]
    },
    {
     "data": {
      "image/png": "[encoded data removed]",
      "text/plain": [
       "<Figure size 432x288 with 1 Axes>"
      ]
     },
     "metadata": {
      "needs_background": "light"
     },
     "output_type": "display_data"
    },
    {
     "name": "stdout",
     "output_type": "stream",
     "text": [
      "The negative r value indicates a slight negative correlation between latitude and wind speed\n"
     ]
    },
    {
     "data": {
      "text/plain": [
       "<Figure size 432x288 with 0 Axes>"
      ]
     },
     "metadata": {},
     "output_type": "display_data"
    }
   ],
   "source": [
    "x_values = northlat_df[\"Latitude\"]\n",
    "y_values = northlat_df[\"Wind Speed\"]\n",
    "linear_regression(x_values,y_values,'Wind Speed',(6,30))\n",
    "\n",
    "plt.savefig('Picture7')\n",
    "\n",
    "print(\"The negative r value indicates a slight negative correlation between latitude and wind speed\")"
   ]
  },
  {
   "cell_type": "markdown",
   "metadata": {},
   "source": [
    "####  Southern Hemisphere - Wind Speed (mph) vs. Latitude Linear Regression"
   ]
  },
  {
   "cell_type": "code",
   "execution_count": 20,
   "metadata": {},
   "outputs": [
    {
     "name": "stdout",
     "output_type": "stream",
     "text": [
      "The r-squared is: -0.17281618663767973\n"
     ]
    },
    {
     "data": {
      "image/png": "[encoded data removed]",
      "text/plain": [
       "<Figure size 432x288 with 1 Axes>"
      ]
     },
     "metadata": {
      "needs_background": "light"
     },
     "output_type": "display_data"
    },
    {
     "name": "stdout",
     "output_type": "stream",
     "text": [
      "The negative r value indicates weak negative correlation between latitude and wind speed\n"
     ]
    },
    {
     "data": {
      "text/plain": [
       "<Figure size 432x288 with 0 Axes>"
      ]
     },
     "metadata": {},
     "output_type": "display_data"
    }
   ],
   "source": [
    "x_values = southlat_df[\"Latitude\"]\n",
    "y_values = southlat_df[\"Wind Speed\"]\n",
    "linear_regression(x_values,y_values,'Wind Speed',(6,30)) \n",
    "\n",
    "plt.savefig('Picture8')\n",
    "\n",
    "print(\"The negative r value indicates weak negative correlation between latitude and wind speed\")"
   ]
  },
  {
   "cell_type": "code",
   "execution_count": null,
   "metadata": {},
   "outputs": [],
   "source": []
  },
  {
   "cell_type": "code",
   "execution_count": null,
   "metadata": {},
   "outputs": [],
   "source": []
  },
  {
   "cell_type": "code",
   "execution_count": null,
   "metadata": {},
   "outputs": [],
   "source": []
  },
  {
   "cell_type": "code",
   "execution_count": null,
   "metadata": {},
   "outputs": [],
   "source": []
  },
  {
   "cell_type": "code",
   "execution_count": null,
   "metadata": {},
   "outputs": [],
   "source": []
  }
 ],
 "metadata": {
  "anaconda-cloud": {},
  "kernel_info": {
   "name": "python3"
  },
  "kernelspec": {
   "display_name": "Python [conda env:root] *",
   "language": "python",
   "name": "conda-root-py"
  },
  "language_info": {
   "codemirror_mode": {
    "name": "ipython",
    "version": 3
   },
   "file_extension": ".py",
   "mimetype": "text/x-python",
   "name": "python",
   "nbconvert_exporter": "python",
   "pygments_lexer": "ipython3",
   "version": "3.8.5"
  },
  "latex_envs": {
   "LaTeX_envs_menu_present": true,
   "autoclose": false,
   "autocomplete": true,
   "bibliofile": "biblio.bib",
   "cite_by": "apalike",
   "current_citInitial": 1,
   "eqLabelWithNumbers": true,
   "eqNumInitial": 1,
   "hotkeys": {
    "equation": "Ctrl-E",
    "itemize": "Ctrl-I"
   },
   "labels_anchors": false,
   "latex_user_defs": false,
   "report_style_numbering": false,
   "user_envs_cfg": false
  },
  "nteract": {
   "version": "0.12.3"
  }
 },
 "nbformat": 4,
 "nbformat_minor": 2
}
